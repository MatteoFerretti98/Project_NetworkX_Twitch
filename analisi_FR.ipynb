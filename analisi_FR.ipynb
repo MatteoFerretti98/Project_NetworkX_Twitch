{
 "cells": [
  {
   "cell_type": "code",
   "execution_count": null,
   "metadata": {},
   "outputs": [],
   "source": [
    "import networkx as nx\n",
    "import matplotlib.pyplot as plt\n",
    "import matplotlib.colors as mcolors\n",
    "import random\n",
    "import seaborn as sns\n",
    "import pandas as pd"
   ]
  },
  {
   "cell_type": "code",
   "execution_count": null,
   "metadata": {},
   "outputs": [],
   "source": [
    "def draw(G, pos, measures, measure_name):\n",
    "    \n",
    "    nodes = nx.draw_networkx_nodes(G, pos, node_size=250, cmap=plt.cm.plasma, \n",
    "                                   node_color=list(measures.values()),\n",
    "                                   nodelist=measures.keys())\n",
    "    nodes.set_norm(mcolors.SymLogNorm(linthresh=0.01, linscale=1))\n",
    "    \n",
    "    # labels = nx.draw_networkx_labels(G, pos)\n",
    "    edges = nx.draw_networkx_edges(G, pos)\n",
    "\n",
    "    plt.title(measure_name)\n",
    "    plt.colorbar(nodes)\n",
    "    plt.axis('off')\n",
    "    plt.show()"
   ]
  },
  {
   "cell_type": "code",
   "execution_count": null,
   "metadata": {},
   "outputs": [],
   "source": [
    "df_edge = pd.read_csv('twitch\\FR\\musae_FR_edges.csv')\n",
    "df_target = pd.read_csv('twitch\\FR\\musae_FR_target.csv')"
   ]
  },
  {
   "cell_type": "code",
   "execution_count": null,
   "metadata": {},
   "outputs": [],
   "source": [
    "df_target = df_target.sort_values(by=['views'], ascending=False).reset_index()\n",
    "df_target = df_target.drop(['index'], axis=1)"
   ]
  },
  {
   "cell_type": "code",
   "execution_count": null,
   "metadata": {},
   "outputs": [],
   "source": [
    "#Caricamento del grafo orientato\n",
    "nodes = []\n",
    "for i, row in df_target.iterrows():\n",
    "    if (i < 2000):\n",
    "        nodes.append(row['new_id'])\n",
    "\n",
    "edges = []\n",
    "for f,t in zip(df_edge[\"from\"].to_list(), df_edge[\"to\"].to_list()):\n",
    "    if(f in nodes and t in nodes):\n",
    "        edges.append((f,t))"
   ]
  },
  {
   "cell_type": "code",
   "execution_count": null,
   "metadata": {},
   "outputs": [],
   "source": [
    "graph = nx.DiGraph()\n",
    "graph.add_edges_from(edges)\n",
    "graph.add_nodes_from(nodes)\n",
    "pos = nx.spring_layout(graph)"
   ]
  },
  {
   "cell_type": "markdown",
   "metadata": {},
   "source": [
    "### Analisi descrittiva"
   ]
  },
  {
   "cell_type": "code",
   "execution_count": null,
   "metadata": {},
   "outputs": [],
   "source": [
    "print(\"NODES: \", len(graph.nodes))\n",
    "print(\"EDGES: \", len(graph.edges))\n",
    "print(\"DENSITY: \", round(nx.density(graph),3))\n",
    "print(\"CLUSTERING: \", nx.average_clustering(graph))\n",
    "#print(\"RAGGIO: \", nx.radius(graph))\n",
    "#print(\"DIAMETRO: \", nx.diameter(graph))\n",
    "#print(\"IS_CONNECTED: \", nx.is_connected(graph))"
   ]
  },
  {
   "cell_type": "code",
   "execution_count": null,
   "metadata": {},
   "outputs": [],
   "source": [
    "nx.clustering(graph)"
   ]
  },
  {
   "cell_type": "code",
   "execution_count": null,
   "metadata": {},
   "outputs": [],
   "source": [
    "plt.figure(figsize=(12,8))\n",
    "nx.draw(graph, pos)\n",
    "plt.show()"
   ]
  },
  {
   "cell_type": "markdown",
   "metadata": {},
   "source": [
    "### Analisi della centralità"
   ]
  },
  {
   "cell_type": "markdown",
   "metadata": {},
   "source": [
    "Degree Centrality"
   ]
  },
  {
   "cell_type": "code",
   "execution_count": null,
   "metadata": {},
   "outputs": [],
   "source": [
    "degree = nx.degree_centrality(graph)\n",
    "plt.figure(figsize=(15,10))\n",
    "sns.displot(list(degree.values()), kde=False, aspect = 2)"
   ]
  },
  {
   "cell_type": "code",
   "execution_count": null,
   "metadata": {},
   "outputs": [],
   "source": [
    "plt.figure(figsize=(12,12))\n",
    "pos = nx.spring_layout(graph)\n",
    "draw(graph, pos, degree, 'Degree Centrality')"
   ]
  },
  {
   "cell_type": "code",
   "execution_count": null,
   "metadata": {},
   "outputs": [],
   "source": [
    "plt.figure(figsize=(12,12))\n",
    "pos = nx.spiral_layout(graph)\n",
    "draw(graph, pos, degree, 'Degree Centrality') # in questa forma non si riescono ad ottenere informazioni importanti"
   ]
  },
  {
   "cell_type": "code",
   "execution_count": null,
   "metadata": {},
   "outputs": [],
   "source": [
    "#cambiare visualizzazione\n",
    "labels = {} # quale nodo deve avere quale label\n",
    "for key, value in degree.items():\n",
    "    if value > 0.2: #faccio vedere solo le labels di nodi più importanti\n",
    "        labels[key]=key\n",
    "\n",
    "pos = nx.spring_layout(graph)\n",
    "nx.draw(graph, pos, with_labels = False) # non metto inizialmente le Labels perchè voglio mettere le mie\n",
    "nx.draw_networkx_labels(graph, pos, labels)"
   ]
  },
  {
   "cell_type": "code",
   "execution_count": null,
   "metadata": {},
   "outputs": [],
   "source": [
    "degree = nx.degree_centrality(graph)\n",
    "plt.figure(figsize=(15,10))\n",
    "x = []\n",
    "y = []\n",
    "for key, value in degree.items():\n",
    "    if value > 0.2: #faccio vedere solo le labels di nodi più importanti\n",
    "        x.append(key)\n",
    "        y.append(value)\n",
    "sns.barplot(x = x, y = y)"
   ]
  },
  {
   "cell_type": "code",
   "execution_count": null,
   "metadata": {},
   "outputs": [],
   "source": [
    "nodes = labels\n",
    "edges = []\n",
    "\n",
    "for f,t in zip(df_edge[\"from\"].to_list(), df_edge[\"to\"].to_list()):\n",
    "    if(f in nodes and t in nodes):\n",
    "        edges.append((f,t))\n",
    "\n",
    "graph_deg = nx.DiGraph()\n",
    "graph_deg.add_edges_from(edges)\n",
    "graph_deg.add_nodes_from(nodes)\n",
    "pos_deg = nx.spring_layout(graph_deg)\n",
    "\n",
    "plt.figure(figsize=(12,8))\n",
    "nx.draw(graph_deg, pos_deg, with_labels = False) # non metto inizialmente le Labels perchè voglio mettere le mie\n",
    "nx.draw_networkx_labels(graph_deg, pos_deg, labels)\n",
    "plt.show()"
   ]
  },
  {
   "cell_type": "markdown",
   "metadata": {},
   "source": [
    "Betweenness Centrality"
   ]
  },
  {
   "cell_type": "code",
   "execution_count": null,
   "metadata": {},
   "outputs": [],
   "source": [
    "bet = nx.betweenness_centrality(graph)\n",
    "plt.figure(figsize=(15,10))\n",
    "sns.displot(list(bet.values()), kde=False, aspect = 2)"
   ]
  },
  {
   "cell_type": "code",
   "execution_count": null,
   "metadata": {},
   "outputs": [],
   "source": [
    "plt.figure(figsize=(12,12))\n",
    "pos = nx.spring_layout(graph)\n",
    "draw(graph, pos, bet, 'Betweenness Centrality')"
   ]
  },
  {
   "cell_type": "code",
   "execution_count": null,
   "metadata": {},
   "outputs": [],
   "source": [
    "plt.figure(figsize=(12,12))\n",
    "pos = nx.spiral_layout(graph)\n",
    "draw(graph, pos, degree, 'Betweenness Centrality') # in questa forma non si riescono ad ottenere informazioni importanti"
   ]
  },
  {
   "cell_type": "code",
   "execution_count": null,
   "metadata": {},
   "outputs": [],
   "source": [
    "#cambiare visualizzazione\n",
    "labels = {} # quale nodo deve avere quale label\n",
    "for key, value in bet.items():\n",
    "    if value > 0.008: #faccio vedere solo le labels di nodi più importanti\n",
    "        labels[key]=key\n",
    "\n",
    "pos = nx.spring_layout(graph)\n",
    "nx.draw(graph, pos, with_labels = False) # non metto inizialmente le Labels perchè voglio mettere le mie\n",
    "nx.draw_networkx_labels(graph, pos, labels)"
   ]
  },
  {
   "cell_type": "code",
   "execution_count": null,
   "metadata": {},
   "outputs": [],
   "source": [
    "bet = nx.betweenness_centrality(graph)\n",
    "plt.figure(figsize=(15,10))\n",
    "x = []\n",
    "y = []\n",
    "for key, value in bet.items():\n",
    "    if value > 0.008: #faccio vedere solo le labels di nodi più importanti\n",
    "        x.append(key)\n",
    "        y.append(value)\n",
    "sns.barplot(x = x, y = y)"
   ]
  },
  {
   "cell_type": "code",
   "execution_count": null,
   "metadata": {},
   "outputs": [],
   "source": [
    "nodes = labels\n",
    "edges = []\n",
    "\n",
    "for f,t in zip(df_edge[\"from\"].to_list(), df_edge[\"to\"].to_list()):\n",
    "    if(f in nodes and t in nodes):\n",
    "        edges.append((f,t))\n",
    "\n",
    "graph_bet = nx.DiGraph()\n",
    "graph_bet.add_edges_from(edges)\n",
    "graph_bet.add_nodes_from(nodes)\n",
    "pos_bet = nx.spring_layout(graph_bet)\n",
    "\n",
    "plt.figure(figsize=(12,8))\n",
    "nx.draw(graph_bet, pos_bet, with_labels = False) # non metto inizialmente le Labels perchè voglio mettere le mie\n",
    "nx.draw_networkx_labels(graph_bet, pos_bet, labels)\n",
    "plt.show()"
   ]
  },
  {
   "cell_type": "markdown",
   "metadata": {},
   "source": [
    "Closeness Centrality"
   ]
  },
  {
   "cell_type": "code",
   "execution_count": null,
   "metadata": {},
   "outputs": [],
   "source": [
    "clos = nx.closeness_centrality(graph)\n",
    "plt.figure(figsize=(15,10))\n",
    "sns.displot(list(clos.values()), kde=False, aspect = 2)"
   ]
  },
  {
   "cell_type": "code",
   "execution_count": null,
   "metadata": {},
   "outputs": [],
   "source": [
    "plt.figure(figsize=(12,12))\n",
    "pos = nx.spring_layout(graph)\n",
    "draw(graph, pos, clos, 'Closeness Centrality')"
   ]
  },
  {
   "cell_type": "code",
   "execution_count": null,
   "metadata": {},
   "outputs": [],
   "source": [
    "plt.figure(figsize=(12,12))\n",
    "pos = nx.spiral_layout(graph)\n",
    "draw(graph, pos, degree, 'Closeness Centrality') # in questa forma non si riescono ad ottenere informazioni importanti"
   ]
  },
  {
   "cell_type": "code",
   "execution_count": null,
   "metadata": {},
   "outputs": [],
   "source": [
    "#cambiare visualizzazione\n",
    "labels = {} # quale nodo deve avere quale label\n",
    "for key, value in clos.items():\n",
    "    if value > 0.4: #faccio vedere solo le labels di nodi più importanti\n",
    "        labels[key]=key\n",
    "\n",
    "pos = nx.spring_layout(graph)\n",
    "nx.draw(graph, pos, with_labels = False) # non metto inizialmente le Labels perchè voglio mettere le mie\n",
    "nx.draw_networkx_labels(graph, pos, labels)"
   ]
  },
  {
   "cell_type": "code",
   "execution_count": null,
   "metadata": {},
   "outputs": [],
   "source": [
    "clos = nx.closeness_centrality(graph)\n",
    "plt.figure(figsize=(15,10))\n",
    "x = []\n",
    "y = []\n",
    "for key, value in clos.items():\n",
    "    if value > 0.4: #faccio vedere solo le labels di nodi più importanti\n",
    "        x.append(key)\n",
    "        y.append(value)\n",
    "sns.barplot(x = x, y = y)"
   ]
  },
  {
   "cell_type": "code",
   "execution_count": null,
   "metadata": {},
   "outputs": [],
   "source": [
    "nodes = labels\n",
    "edges = []\n",
    "\n",
    "for f,t in zip(df_edge[\"from\"].to_list(), df_edge[\"to\"].to_list()):\n",
    "    if(f in nodes and t in nodes):\n",
    "        edges.append((f,t))\n",
    "\n",
    "graph_clos = nx.DiGraph()\n",
    "graph_clos.add_edges_from(edges)\n",
    "graph_clos.add_nodes_from(nodes)\n",
    "pos_clos = nx.spring_layout(graph_clos)\n",
    "\n",
    "plt.figure(figsize=(12,8))\n",
    "nx.draw(graph_clos, pos_clos, with_labels = False) # non metto inizialmente le Labels perchè voglio mettere le mie\n",
    "nx.draw_networkx_labels(graph_clos, pos_clos, labels)\n",
    "plt.show()"
   ]
  },
  {
   "cell_type": "markdown",
   "metadata": {},
   "source": [
    "Eigenvector Centrality"
   ]
  },
  {
   "cell_type": "code",
   "execution_count": null,
   "metadata": {},
   "outputs": [],
   "source": [
    "eigv = nx.eigenvector_centrality(graph, max_iter = 800)\n",
    "plt.figure(figsize=(15,10))\n",
    "sns.distplot(list(eigv.values()), kde=True)"
   ]
  },
  {
   "cell_type": "code",
   "execution_count": null,
   "metadata": {},
   "outputs": [],
   "source": [
    "plt.figure(figsize=(12,12))\n",
    "pos = nx.spring_layout(graph)\n",
    "draw(graph, pos, eigv, 'Eigenvector Centrality')"
   ]
  },
  {
   "cell_type": "code",
   "execution_count": null,
   "metadata": {},
   "outputs": [],
   "source": [
    "plt.figure(figsize=(12,12))\n",
    "pos = nx.spiral_layout(graph)\n",
    "draw(graph, pos, degree, 'Eigenvector Centrality') # in questa forma non si riescono ad ottenere informazioni importanti"
   ]
  },
  {
   "cell_type": "code",
   "execution_count": null,
   "metadata": {},
   "outputs": [],
   "source": [
    "#cambiare visualizzazione\n",
    "labels = {} # quale nodo deve avere quale label\n",
    "for key, value in eigv.items():\n",
    "    if value > 0.02: #faccio vedere solo le labels di nodi più importanti\n",
    "        labels[key]=key\n",
    "\n",
    "pos = nx.spring_layout(graph)\n",
    "nx.draw(graph, pos, with_labels = False) # non metto inizialmente le Labels perchè voglio mettere le mie\n",
    "nx.draw_networkx_labels(graph, pos, labels)"
   ]
  },
  {
   "cell_type": "code",
   "execution_count": null,
   "metadata": {},
   "outputs": [],
   "source": [
    "eigv = nx.eigenvector_centrality(graph, max_iter = 800)\n",
    "plt.figure(figsize=(15,10))\n",
    "x = []\n",
    "y = []\n",
    "for key, value in eigv.items():\n",
    "    if value > 0.02: #faccio vedere solo le labels di nodi più importanti\n",
    "        x.append(key)\n",
    "        y.append(value)\n",
    "sns.barplot(x = x, y = y)"
   ]
  },
  {
   "cell_type": "code",
   "execution_count": null,
   "metadata": {},
   "outputs": [],
   "source": [
    "nodes = labels\n",
    "edges = []\n",
    "\n",
    "for f,t in zip(df_edge[\"from\"].to_list(), df_edge[\"to\"].to_list()):\n",
    "    if(f in nodes and t in nodes):\n",
    "        edges.append((f,t))\n",
    "\n",
    "graph_eigv = nx.DiGraph()\n",
    "graph_eigv.add_edges_from(edges)\n",
    "graph_eigv.add_nodes_from(nodes)\n",
    "pos_eigv = nx.spring_layout(graph_eigv)\n",
    "\n",
    "plt.figure(figsize=(12,8))\n",
    "nx.draw(graph_eigv, pos_eigv, with_labels = False) # non metto inizialmente le Labels perchè voglio mettere le mie\n",
    "nx.draw_networkx_labels(graph_eigv, pos_eigv, labels)\n",
    "plt.show()"
   ]
  },
  {
   "cell_type": "markdown",
   "metadata": {},
   "source": [
    "PageRank"
   ]
  },
  {
   "cell_type": "code",
   "execution_count": null,
   "metadata": {},
   "outputs": [],
   "source": [
    "pager = nx.pagerank(graph, alpha=0.85) #l'alpha è chiamato damping factor\n",
    "plt.figure(figsize=(15,10))\n",
    "sns.displot(list(pager.values()), kde=False, aspect = 2)"
   ]
  },
  {
   "cell_type": "code",
   "execution_count": null,
   "metadata": {},
   "outputs": [],
   "source": [
    "plt.figure(figsize=(12,12))\n",
    "pos = nx.spring_layout(graph)\n",
    "draw(graph, pos, pager, 'PageRank')"
   ]
  },
  {
   "cell_type": "code",
   "execution_count": null,
   "metadata": {},
   "outputs": [],
   "source": [
    "plt.figure(figsize=(12,12))\n",
    "pos = nx.spiral_layout(graph)\n",
    "draw(graph, pos, degree, 'PageRank') # in questa forma non si riescono ad ottenere informazioni importanti"
   ]
  },
  {
   "cell_type": "code",
   "execution_count": null,
   "metadata": {},
   "outputs": [],
   "source": [
    "#cambiare visualizzazione\n",
    "labels = {} # quale nodo deve avere quale label\n",
    "for key, value in pager.items():\n",
    "    if value > 0.02: #faccio vedere solo le labels di nodi più importanti\n",
    "        labels[key]=key\n",
    "\n",
    "pos = nx.spring_layout(graph)\n",
    "nx.draw(graph, pos, with_labels = False) # non metto inizialmente le Labels perchè voglio mettere le mie\n",
    "nx.draw_networkx_labels(graph, pos, labels)"
   ]
  },
  {
   "cell_type": "code",
   "execution_count": null,
   "metadata": {},
   "outputs": [],
   "source": [
    "pager = nx.pagerank(graph, alpha=0.85) #l'alpha è chiamato damping factor\n",
    "plt.figure(figsize=(15,10))\n",
    "x = []\n",
    "y = []\n",
    "for key, value in pager.items():\n",
    "    if value > 0.02: #faccio vedere solo le labels di nodi più importanti\n",
    "        x.append(key)\n",
    "        y.append(value)\n",
    "sns.barplot(x = x, y = y)"
   ]
  },
  {
   "cell_type": "code",
   "execution_count": null,
   "metadata": {},
   "outputs": [],
   "source": [
    "nodes = labels\n",
    "edges = []\n",
    "\n",
    "for f,t in zip(df_edge[\"from\"].to_list(), df_edge[\"to\"].to_list()):\n",
    "    if(f in nodes and t in nodes):\n",
    "        edges.append((f,t))\n",
    "\n",
    "graph_pager = nx.DiGraph()\n",
    "graph_pager.add_edges_from(edges)\n",
    "graph_pager.add_nodes_from(nodes)\n",
    "pos_pager = nx.spring_layout(graph_pager)\n",
    "\n",
    "plt.figure(figsize=(12,8))\n",
    "nx.draw(graph_pager, pos_pager, with_labels = False) # non metto inizialmente le Labels perchè voglio mettere le mie\n",
    "nx.draw_networkx_labels(graph_pager, pos_pager, labels)\n",
    "plt.show()"
   ]
  },
  {
   "cell_type": "markdown",
   "metadata": {},
   "source": [
    "### Analisi delle strutture"
   ]
  },
  {
   "cell_type": "markdown",
   "metadata": {},
   "source": [
    "Communites"
   ]
  },
  {
   "cell_type": "code",
   "execution_count": null,
   "metadata": {},
   "outputs": [],
   "source": [
    "# BONUS\n",
    "from networkx.algorithms import community\n",
    "\n",
    "communities = community.greedy_modularity_communities(graph)\n",
    "communities"
   ]
  },
  {
   "cell_type": "code",
   "execution_count": null,
   "metadata": {},
   "outputs": [],
   "source": [
    "len(communities)"
   ]
  },
  {
   "cell_type": "code",
   "execution_count": null,
   "metadata": {},
   "outputs": [],
   "source": [
    "def caricamento(nodes):\n",
    "    edges = []\n",
    "    for f,t in zip(df_edge[\"from\"].to_list(), df_edge[\"to\"].to_list()):\n",
    "        if(f in nodes and t in nodes):\n",
    "            edges.append((f,t))\n",
    "    return edges\n",
    "\n",
    "def grafo(nodes, edges):\n",
    "    graph = nx.DiGraph()\n",
    "    graph.add_edges_from(edges)\n",
    "    graph.add_nodes_from(nodes)\n",
    "    pos = nx.spring_layout(graph)\n",
    "    return graph\n",
    "\n",
    "def visualizza(graph):\n",
    "    pos = nx.spring_layout(graph)\n",
    "    nx.draw(graph, pos)"
   ]
  },
  {
   "cell_type": "code",
   "execution_count": null,
   "metadata": {},
   "outputs": [],
   "source": [
    "#Costruzione e visualizzazione del grafo orientato\n",
    "edges = caricamento(communities[0])\n",
    "graph_comm1 = grafo(communities[0], edges)\n",
    "visualizza(graph_comm1)"
   ]
  },
  {
   "cell_type": "code",
   "execution_count": null,
   "metadata": {},
   "outputs": [],
   "source": [
    "#Costruzione e visualizzazione del grafo orientato\n",
    "edges = caricamento(communities[1])\n",
    "graph_comm2 = grafo(communities[1], edges)\n",
    "visualizza(graph_comm2)"
   ]
  },
  {
   "cell_type": "code",
   "execution_count": null,
   "metadata": {},
   "outputs": [],
   "source": [
    "#Costruzione e visualizzazione del grafo orientato\n",
    "edges = caricamento(communities[2])\n",
    "graph_comm3 = grafo(communities[2], edges)\n",
    "visualizza(graph_comm3)"
   ]
  },
  {
   "cell_type": "code",
   "execution_count": null,
   "metadata": {},
   "outputs": [],
   "source": [
    "#Costruzione e visualizzazione del grafo orientato\n",
    "edges = caricamento(communities[3])\n",
    "graph_comm4 = grafo(communities[3], edges)\n",
    "visualizza(graph_comm4)"
   ]
  },
  {
   "cell_type": "code",
   "execution_count": null,
   "metadata": {},
   "outputs": [],
   "source": [
    "#Costruzione e visualizzazione del grafo orientato\n",
    "edges = caricamento(communities[4])\n",
    "graph_comm5 = grafo(communities[4], edges)\n",
    "visualizza(graph_comm5)"
   ]
  }
 ],
 "metadata": {
  "kernelspec": {
   "display_name": "Python 3",
   "language": "python",
   "name": "python3"
  },
  "language_info": {
   "codemirror_mode": {
    "name": "ipython",
    "version": 3
   },
   "file_extension": ".py",
   "mimetype": "text/x-python",
   "name": "python",
   "nbconvert_exporter": "python",
   "pygments_lexer": "ipython3",
   "version": "3.10.2"
  },
  "orig_nbformat": 4,
  "vscode": {
   "interpreter": {
    "hash": "260054ea0d8b706d1daa9dfa32c0e686261e6c527f8f9669ad96d918cc8ae355"
   }
  }
 },
 "nbformat": 4,
 "nbformat_minor": 2
}
